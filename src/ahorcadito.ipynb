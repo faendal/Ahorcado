{
 "cells": [
  {
   "cell_type": "markdown",
   "metadata": {},
   "source": [
    "En este documento se realizará una prueba de ahorcadito"
   ]
  },
  {
   "cell_type": "code",
   "execution_count": 34,
   "metadata": {},
   "outputs": [
    {
     "name": "stdout",
     "output_type": "stream",
     "text": [
      "Bienvenido al juego del ahorcadito. En este deberá intentar adivinar una palabra una letra a la vez.\n",
      "Para esto, tendrá 6 intentos\n",
      "_ _ _ _ _\n",
      "La letra no se encuentra en la palabra\n",
      "_ _ _ _ _\n",
      "La letra no se encuentra en la palabra\n",
      "_ _ _ _ _\n",
      "_ A _ _ _\n",
      "_ A _ _ R\n",
      "La letra no se encuentra en la palabra\n",
      "_ A _ _ R\n",
      "_ A L _ R\n",
      "_ A L O R\n",
      "C A L O R\n",
      "Felicitaciones, adivinaste la palabra\n"
     ]
    }
   ],
   "source": [
    "import random\n",
    "\n",
    "def bring_data(file_route):\n",
    "    words = []\n",
    "    with open(file_route, \"r\", encoding=\"utf-8\") as f:\n",
    "        for line in f:\n",
    "            words.append(line[0:len(line)-1])\n",
    "        words = enumerate(words, 1)\n",
    "        db = {count : value for count, value in words}\n",
    "    return db\n",
    "\n",
    "def generate_game_string(word):\n",
    "    string = []\n",
    "    for i in range(0, len(word)):\n",
    "        string.append('_')\n",
    "    return string\n",
    "\n",
    "def run():\n",
    "    word_db = bring_data(\"./data.txt\")\n",
    "    while True:\n",
    "        print(\"Bienvenido al juego del ahorcadito. En este deberá intentar adivinar una palabra una letra a la vez.\\nPara esto, tendrá 6 intentos\")\n",
    "        guess_word = word_db[random.randint(1, len(word_db))]\n",
    "        game_string = generate_game_string(guess_word)\n",
    "        err = 0\n",
    "        print(' '.join(game_string))\n",
    "        while True:\n",
    "            while True:\n",
    "                try:\n",
    "                    letter = input(\"Ingrese una letra: \").lower()\n",
    "                    if len(letter) > 1 or len(letter) == 0:\n",
    "                        raise ValueError(\"Debe ingresar una única letra\")\n",
    "                    else:\n",
    "                        break\n",
    "                except ValueError as ve:\n",
    "                    print(ve)\n",
    "                    continue\n",
    "            \n",
    "            if letter in guess_word:\n",
    "                indexes = []\n",
    "                for i in range(0, len(guess_word)):\n",
    "                    if guess_word[i] == letter:\n",
    "                        indexes.append(i)\n",
    "                for i in indexes:\n",
    "                    game_string[i] = letter.upper()\n",
    "            else:\n",
    "                print(\"La letra no se encuentra en la palabra\")\n",
    "                err += 1\n",
    "            \n",
    "            print(' '.join(game_string))\n",
    "            \n",
    "            if ''.join(game_string).lower() == guess_word:\n",
    "                print(\"Felicitaciones, adivinaste la palabra\")\n",
    "                break\n",
    "\n",
    "            if err == 6:\n",
    "                print(\"Game over\")\n",
    "                print(\"La palabra era: \", guess_word)\n",
    "                break\n",
    "\n",
    "        while True:\n",
    "            try:\n",
    "                continuity = input(\"Desea volver a jugar? (y/n): \").lower()\n",
    "                if len(continuity) > 1 or len(continuity) == 0:\n",
    "                    raise ValueError(\"Debe ingresar únicamente y para seguir o n para parar\")\n",
    "                else:\n",
    "                    break\n",
    "            except ValueError as ve:\n",
    "                print(ve)\n",
    "                continue\n",
    "\n",
    "        if continuity == 'y':\n",
    "            continue\n",
    "        else:\n",
    "            break\n",
    "\n",
    "if __name__ == '__main__':\n",
    "    run()"
   ]
  }
 ],
 "metadata": {
  "interpreter": {
   "hash": "f9f85f796d01129d0dd105a088854619f454435301f6ffec2fea96ecbd9be4ac"
  },
  "kernelspec": {
   "display_name": "Python 3.9.5 64-bit",
   "language": "python",
   "name": "python3"
  },
  "language_info": {
   "codemirror_mode": {
    "name": "ipython",
    "version": 3
   },
   "file_extension": ".py",
   "mimetype": "text/x-python",
   "name": "python",
   "nbconvert_exporter": "python",
   "pygments_lexer": "ipython3",
   "version": "3.9.5"
  },
  "orig_nbformat": 4
 },
 "nbformat": 4,
 "nbformat_minor": 2
}
